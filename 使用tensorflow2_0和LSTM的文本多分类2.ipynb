{
  "nbformat": 4,
  "nbformat_minor": 0,
  "metadata": {
    "colab": {
      "name": "使用tensorflow2.0和LSTM的文本多分类2.ipynb",
      "provenance": []
    },
    "kernelspec": {
      "name": "python3",
      "display_name": "Python 3"
    },
    "accelerator": "GPU"
  },
  "cells": [
    {
      "cell_type": "markdown",
      "metadata": {
        "id": "h1RDtYkDS6xf",
        "colab_type": "text"
      },
      "source": [
        "之前我给大家介绍过一篇使用keras和LSTM来进行文本多分类的博客 ,今天我将在google提供的Colab notebook上使用tensorflow2.0来是实现以下中文文本多分类的实战应用。选择Colab notebook是因为在Colab notebook中google提供了免费的GPU资源供你使用，这样可以大大节省模型的训练时间。\n",
        "\n",
        "Google Colab，全名Colaboratory，是由谷歌提供的免费的云平台，可以使用keras、tensorflow等框架进行深度学习。最近Colab平台已经将K80 GPU更换成Tesla T4 GPU，提供了更强的算力。对于刚入门机器学习或深度学习的用户，这个平台是不二之选。\n",
        "\n",
        "要使用Google Colab必须要在科学上网的环境下，同时必须要有一个gmail账号，还没有gmail账号的同学请赶快注册一个吧。\n",
        "\n",
        "如何使用colab请看这篇博客（https://www.cnblogs.com/lfri/p/10471852.html）\n"
      ]
    },
    {
      "cell_type": "code",
      "metadata": {
        "id": "FPUUPF3jtmJ4",
        "colab_type": "code",
        "colab": {}
      },
      "source": [
        "%matplotlib inline\n",
        "import pandas as pd\n",
        "import matplotlib\n",
        "import numpy as np\n",
        "import matplotlib.pyplot as plt\n",
        "from sklearn.model_selection import train_test_split\n",
        "import jieba as jb\n",
        "import re"
      ],
      "execution_count": 0,
      "outputs": []
    },
    {
      "cell_type": "code",
      "metadata": {
        "id": "8rrMjRf4tsaM",
        "colab_type": "code",
        "colab": {}
      },
      "source": [
        "#如果还没有安装tensorflow2.0,请使用下面的命令安装tensorflow\n",
        "#!pip install tensorflow==2.0.0"
      ],
      "execution_count": 0,
      "outputs": []
    },
    {
      "cell_type": "markdown",
      "metadata": {
        "id": "2DUMMJaxY87-",
        "colab_type": "text"
      },
      "source": [
        "# 数据"
      ]
    },
    {
      "cell_type": "code",
      "metadata": {
        "id": "nylC15sMtwsD",
        "colab_type": "code",
        "outputId": "1f0e0292-be50-4950-f480-055b905cd501",
        "colab": {
          "base_uri": "https://localhost:8080/",
          "height": 35
        }
      },
      "source": [
        "import tensorflow as tf\n",
        "from tensorflow.keras.preprocessing.text import Tokenizer\n",
        "from tensorflow.keras.preprocessing.sequence import pad_sequences\n",
        "print(tf.__version__)"
      ],
      "execution_count": 3,
      "outputs": [
        {
          "output_type": "stream",
          "text": [
            "2.0.0\n"
          ],
          "name": "stdout"
        }
      ]
    },
    {
      "cell_type": "code",
      "metadata": {
        "id": "cOFAjwEGtyG0",
        "colab_type": "code",
        "colab": {}
      },
      "source": [
        "# #加载google的云端硬盘\n",
        "from google.colab import drive\n",
        "drive.mount('/content/drive')"
      ],
      "execution_count": 0,
      "outputs": []
    },
    {
      "cell_type": "code",
      "metadata": {
        "id": "mcN17j6OtyMK",
        "colab_type": "code",
        "outputId": "f6a5919d-2ed4-4fc8-f422-dda7c96394ed",
        "colab": {
          "base_uri": "https://localhost:8080/",
          "height": 377
        }
      },
      "source": [
        "df = pd.read_csv('./drive/My Drive/data/online_shopping_10_cats.csv')\n",
        "print(\"数据总量: %d .\" % len(df))\n",
        "df.sample(10)"
      ],
      "execution_count": 79,
      "outputs": [
        {
          "output_type": "stream",
          "text": [
            "数据总量: 62774 .\n"
          ],
          "name": "stdout"
        },
        {
          "output_type": "execute_result",
          "data": {
            "text/html": [
              "<div>\n",
              "<style scoped>\n",
              "    .dataframe tbody tr th:only-of-type {\n",
              "        vertical-align: middle;\n",
              "    }\n",
              "\n",
              "    .dataframe tbody tr th {\n",
              "        vertical-align: top;\n",
              "    }\n",
              "\n",
              "    .dataframe thead th {\n",
              "        text-align: right;\n",
              "    }\n",
              "</style>\n",
              "<table border=\"1\" class=\"dataframe\">\n",
              "  <thead>\n",
              "    <tr style=\"text-align: right;\">\n",
              "      <th></th>\n",
              "      <th>cat</th>\n",
              "      <th>label</th>\n",
              "      <th>review</th>\n",
              "    </tr>\n",
              "  </thead>\n",
              "  <tbody>\n",
              "    <tr>\n",
              "      <th>20435</th>\n",
              "      <td>水果</td>\n",
              "      <td>1</td>\n",
              "      <td>这次购物不满意，有焉了的，感觉不怎么有水分，早知道不如直接去市场买，你们可以看看，物流给5星...</td>\n",
              "    </tr>\n",
              "    <tr>\n",
              "      <th>47539</th>\n",
              "      <td>衣服</td>\n",
              "      <td>0</td>\n",
              "      <td>一般般，不咋的这衣服</td>\n",
              "    </tr>\n",
              "    <tr>\n",
              "      <th>43047</th>\n",
              "      <td>衣服</td>\n",
              "      <td>1</td>\n",
              "      <td>宝贝收到，衣服和描述的一样，服务很好，物流很快，大小合适。</td>\n",
              "    </tr>\n",
              "    <tr>\n",
              "      <th>44821</th>\n",
              "      <td>衣服</td>\n",
              "      <td>0</td>\n",
              "      <td>不满意，与图片相差不多，太丑了。我都要求退货了，但是这么多天理都没人理。建议各位网友慎买这家货。</td>\n",
              "    </tr>\n",
              "    <tr>\n",
              "      <th>17004</th>\n",
              "      <td>水果</td>\n",
              "      <td>1</td>\n",
              "      <td>还可以啊，只是这阵价格比前面贵</td>\n",
              "    </tr>\n",
              "    <tr>\n",
              "      <th>60250</th>\n",
              "      <td>酒店</td>\n",
              "      <td>0</td>\n",
              "      <td>房间隔音出奇的差，从来没有住过隔音这么差的酒店，左右隔壁房间的电视、说话声音，过道里的声音在...</td>\n",
              "    </tr>\n",
              "    <tr>\n",
              "      <th>46321</th>\n",
              "      <td>衣服</td>\n",
              "      <td>0</td>\n",
              "      <td>衣服真垃圾。。。。。</td>\n",
              "    </tr>\n",
              "    <tr>\n",
              "      <th>36090</th>\n",
              "      <td>洗发水</td>\n",
              "      <td>0</td>\n",
              "      <td>特别不好用，用完头发头皮发油发尾枯</td>\n",
              "    </tr>\n",
              "    <tr>\n",
              "      <th>8515</th>\n",
              "      <td>平板</td>\n",
              "      <td>1</td>\n",
              "      <td>清晰度高，声音好听，速度快，支持国产</td>\n",
              "    </tr>\n",
              "    <tr>\n",
              "      <th>48332</th>\n",
              "      <td>衣服</td>\n",
              "      <td>0</td>\n",
              "      <td>衣服还可以，不过选的这家物流我真无语，货不给我送到地方不说，弄个存放点，第二天去取还跟我收费...</td>\n",
              "    </tr>\n",
              "  </tbody>\n",
              "</table>\n",
              "</div>"
            ],
            "text/plain": [
              "       cat  label                                             review\n",
              "20435   水果      1  这次购物不满意，有焉了的，感觉不怎么有水分，早知道不如直接去市场买，你们可以看看，物流给5星...\n",
              "47539   衣服      0                                         一般般，不咋的这衣服\n",
              "43047   衣服      1                      宝贝收到，衣服和描述的一样，服务很好，物流很快，大小合适。\n",
              "44821   衣服      0   不满意，与图片相差不多，太丑了。我都要求退货了，但是这么多天理都没人理。建议各位网友慎买这家货。\n",
              "17004   水果      1                                    还可以啊，只是这阵价格比前面贵\n",
              "60250   酒店      0  房间隔音出奇的差，从来没有住过隔音这么差的酒店，左右隔壁房间的电视、说话声音，过道里的声音在...\n",
              "46321   衣服      0                                         衣服真垃圾。。。。。\n",
              "36090  洗发水      0                                  特别不好用，用完头发头皮发油发尾枯\n",
              "8515    平板      1                                 清晰度高，声音好听，速度快，支持国产\n",
              "48332   衣服      0  衣服还可以，不过选的这家物流我真无语，货不给我送到地方不说，弄个存放点，第二天去取还跟我收费..."
            ]
          },
          "metadata": {
            "tags": []
          },
          "execution_count": 79
        }
      ]
    },
    {
      "cell_type": "code",
      "metadata": {
        "id": "g6B5Pc0gtyVg",
        "colab_type": "code",
        "outputId": "b2dbe183-d5bf-43a5-de1b-5d2266226817",
        "colab": {
          "base_uri": "https://localhost:8080/",
          "height": 359
        }
      },
      "source": [
        "df[[\"cat\"]].drop_duplicates().reset_index(drop=True)"
      ],
      "execution_count": 6,
      "outputs": [
        {
          "output_type": "execute_result",
          "data": {
            "text/html": [
              "<div>\n",
              "<style scoped>\n",
              "    .dataframe tbody tr th:only-of-type {\n",
              "        vertical-align: middle;\n",
              "    }\n",
              "\n",
              "    .dataframe tbody tr th {\n",
              "        vertical-align: top;\n",
              "    }\n",
              "\n",
              "    .dataframe thead th {\n",
              "        text-align: right;\n",
              "    }\n",
              "</style>\n",
              "<table border=\"1\" class=\"dataframe\">\n",
              "  <thead>\n",
              "    <tr style=\"text-align: right;\">\n",
              "      <th></th>\n",
              "      <th>cat</th>\n",
              "    </tr>\n",
              "  </thead>\n",
              "  <tbody>\n",
              "    <tr>\n",
              "      <th>0</th>\n",
              "      <td>书籍</td>\n",
              "    </tr>\n",
              "    <tr>\n",
              "      <th>1</th>\n",
              "      <td>平板</td>\n",
              "    </tr>\n",
              "    <tr>\n",
              "      <th>2</th>\n",
              "      <td>手机</td>\n",
              "    </tr>\n",
              "    <tr>\n",
              "      <th>3</th>\n",
              "      <td>水果</td>\n",
              "    </tr>\n",
              "    <tr>\n",
              "      <th>4</th>\n",
              "      <td>洗发水</td>\n",
              "    </tr>\n",
              "    <tr>\n",
              "      <th>5</th>\n",
              "      <td>热水器</td>\n",
              "    </tr>\n",
              "    <tr>\n",
              "      <th>6</th>\n",
              "      <td>蒙牛</td>\n",
              "    </tr>\n",
              "    <tr>\n",
              "      <th>7</th>\n",
              "      <td>衣服</td>\n",
              "    </tr>\n",
              "    <tr>\n",
              "      <th>8</th>\n",
              "      <td>计算机</td>\n",
              "    </tr>\n",
              "    <tr>\n",
              "      <th>9</th>\n",
              "      <td>酒店</td>\n",
              "    </tr>\n",
              "  </tbody>\n",
              "</table>\n",
              "</div>"
            ],
            "text/plain": [
              "   cat\n",
              "0   书籍\n",
              "1   平板\n",
              "2   手机\n",
              "3   水果\n",
              "4  洗发水\n",
              "5  热水器\n",
              "6   蒙牛\n",
              "7   衣服\n",
              "8  计算机\n",
              "9   酒店"
            ]
          },
          "metadata": {
            "tags": []
          },
          "execution_count": 6
        }
      ]
    },
    {
      "cell_type": "code",
      "metadata": {
        "id": "x6W-Tq9utyfS",
        "colab_type": "code",
        "outputId": "a12d4df7-5950-4703-c9e8-c476d17c3974",
        "colab": {
          "base_uri": "https://localhost:8080/",
          "height": 431
        }
      },
      "source": [
        "print(df.cat.value_counts())\n",
        "print()\n",
        "print(df.cat.value_counts()/len(df));\n"
      ],
      "execution_count": 7,
      "outputs": [
        {
          "output_type": "stream",
          "text": [
            "酒店     10000\n",
            "水果     10000\n",
            "平板     10000\n",
            "洗发水    10000\n",
            "衣服     10000\n",
            "计算机     3992\n",
            "书籍      3851\n",
            "手机      2323\n",
            "蒙牛      2033\n",
            "热水器      575\n",
            "Name: cat, dtype: int64\n",
            "\n",
            "酒店     0.159302\n",
            "水果     0.159302\n",
            "平板     0.159302\n",
            "洗发水    0.159302\n",
            "衣服     0.159302\n",
            "计算机    0.063593\n",
            "书籍     0.061347\n",
            "手机     0.037006\n",
            "蒙牛     0.032386\n",
            "热水器    0.009160\n",
            "Name: cat, dtype: float64\n"
          ],
          "name": "stdout"
        }
      ]
    },
    {
      "cell_type": "code",
      "metadata": {
        "id": "7t8RNhVctylV",
        "colab_type": "code",
        "outputId": "73e54477-b7c6-410e-fb70-4d6d0b4c488c",
        "colab": {
          "base_uri": "https://localhost:8080/",
          "height": 127
        }
      },
      "source": [
        "df[df.cat=='平板'][[\"review\"]].sample(5).values"
      ],
      "execution_count": 0,
      "outputs": [
        {
          "output_type": "execute_result",
          "data": {
            "text/plain": [
              "array([['东西是给78岁爷爷买的，他用的特别方便，京东配送也特别快，总之，特别满意。老人主要以看电视剧，新闻为主，标准配置已经足够了，请大家参考。'],\n",
              "       ['从此再也不在京东买东西，呵呵14号下单，15号活动减300，问客服不理，好歹也给个理由回复把！申请保价说有赠品就不给保价。下单之后还给我说地址有问题不给送，要我取消订单。我以前买的东西你让鬼送过来的？虽然最后解决了，但是服务又慢又差。手机还行，但是劝大家别在这里买。本想到315投诉，但忙的都没时间。'],\n",
              "       ['第一次从京东买东西，真的好坑，客服都是些大夜。最重要的是差评怎么就提交不出去呢？'],\n",
              "       ['性能很不错。显示跟运行速度给力。支持国产芯！！！就是背后的弧形有点失望'],\n",
              "       ['前摄像头的像素不够清晰，拍了照片会有各种黑点，问了客服人员说不是质量问题。']], dtype=object)"
            ]
          },
          "metadata": {
            "tags": []
          },
          "execution_count": 48
        }
      ]
    },
    {
      "cell_type": "code",
      "metadata": {
        "id": "yqHg5N_jtyrh",
        "colab_type": "code",
        "outputId": "bcfde1d2-6f39-4629-8e51-8be437917e06",
        "colab": {
          "base_uri": "https://localhost:8080/",
          "height": 145
        }
      },
      "source": [
        "df[df.cat=='手机'][[\"review\"]].sample(5).values"
      ],
      "execution_count": 0,
      "outputs": [
        {
          "output_type": "execute_result",
          "data": {
            "text/plain": [
              "array([['1、来电显示只显示对方的姓名而不显示号码，对方可能有几个号，这样就不知道是对方的哪一个电话号码打来的？应该显示姓名+电话号码！2、我每天都要从名片夹中查找很多联系人的号码，而且他们的号码大多是长途的，所以我都是从手机中找到了再用办公室的座机拨打，因为使用次数频繁，所以使用名片夹中的查找功能很麻烦，如果通过语音拨号呼叫并且能停留在该联系人的名片资料上不直接拨打就好了，摩托A780这一点就做得比较好。'],\n",
              "       ['排线容易坏我已经换了几次了啊！而且售后服务特别差'],\n",
              "       ['我用了两个月，除了时间不太准之外没什么性能上的毛病。我满意的是屏幕的大小和颜色以及自动开关机的功能。'],\n",
              "       ['色彩明亮，对比度好，通话质量高'],\n",
              "       ['不错，功能很全，D盘下有7兆呢，可是短信满了，也只能望卡兴叹！其他都不错，有三个闹钟，阴历，等等！']],\n",
              "      dtype=object)"
            ]
          },
          "metadata": {
            "tags": []
          },
          "execution_count": 49
        }
      ]
    },
    {
      "cell_type": "code",
      "metadata": {
        "id": "sPOH8zjAtyx2",
        "colab_type": "code",
        "outputId": "96525168-7605-4b63-a12f-a0b1c8ff5986",
        "colab": {
          "base_uri": "https://localhost:8080/",
          "height": 145
        }
      },
      "source": [
        "df[df.cat=='酒店'][[\"review\"]].sample(5).values"
      ],
      "execution_count": 0,
      "outputs": [
        {
          "output_type": "execute_result",
          "data": {
            "text/plain": [
              "array([['预定酒店很顺利。离西街较远，房间很有特色，古色古香，下次去阳朔再住这里'],\n",
              "       ['环境较差，马路噪音非常大，而且房间之间的隔音处理得不好，睡在床上能听到楼道里的讲话声。房间偏小。另外，离机场非常远。出租司机走外环线，说是速度快，但走了40多公里。饭店周围的环境很乱。'],\n",
              "       ['我是在全国雪灾时来到了仁安悦榕庄的，整个酒店就我们一个住户，酒店座落在藏民的村落中，与自然环境融为一体，我看到的是一个白色的童话世界，酒店工作人员及总经理何满先生都相当的亲切，怕大雪封山，酒店派了最好的藏族司机：扎西，第二天一早送我们回了丽江，而他自己连着就回香格里拉，等于要开一天的路（早上８点３０出发，他到晚上９点才到）而'],\n",
              "       ['订的是双人房,感觉房间有点小,放了两张床之后就没什么空间了,沙发也只有一个单人的.觉得最不好的是洗手间太太太小了 - 好挤,门拉直打开就到浴缸的边了.除了小的问题之外,房间还是很舒服的.自助早餐不错,很丰富,可惜吃不了多少...会所在酒店外面,觉得有点不方便. 有室内游泳池,去游泳还一定要求带游泳帽,最终没下水, 有点郁闷.'],\n",
              "       ['在这个酒店住过至少有四次，进行一下简单的评价：房间的面积比较大，够得上四星的标准，只是有些房间稍旧了点；房间的设施中规中矩，还行，电脑的上网速度还可以；卫生间的花瓣很欣赏，这一点相当不错；客房服务员的态度非常好，很欣赏；总体感觉较好，推荐！！！']],\n",
              "      dtype=object)"
            ]
          },
          "metadata": {
            "tags": []
          },
          "execution_count": 50
        }
      ]
    },
    {
      "cell_type": "code",
      "metadata": {
        "id": "Qof3E4K5ty7Z",
        "colab_type": "code",
        "outputId": "f88f49f7-d4b8-4143-ebce-b283e6f9355d",
        "colab": {
          "base_uri": "https://localhost:8080/",
          "height": 125
        }
      },
      "source": [
        "df[df.cat=='衣服'][[\"review\"]].sample(5).values"
      ],
      "execution_count": 0,
      "outputs": [
        {
          "output_type": "execute_result",
          "data": {
            "text/plain": [
              "array([['什么鬼东西，质量差，东西又发错，垃圾'],\n",
              "       ['白色打底衫，质量不错，便宜！！！！！！！！穿着舒服！！！'],\n",
              "       ['快递非常给力哦，昨天下单今天上午就到了，款式不错，大小正好，质量很好，非常满意'],\n",
              "       ['纯棉的，很不错。这个价格能买到纯棉很不错了'],\n",
              "       ['你*的就给我这样的裤子？特么的这是我在京东唯一一次买到烂东西，就你这家店，你老母的，老子准备过年穿的，滚你*，给你一星都奢侈']],\n",
              "      dtype=object)"
            ]
          },
          "metadata": {
            "tags": []
          },
          "execution_count": 51
        }
      ]
    },
    {
      "cell_type": "markdown",
      "metadata": {
        "id": "ZiwexnALYtRX",
        "colab_type": "text"
      },
      "source": [
        "## 数据预处理\n",
        "\n",
        "下面我们要对评语进行一些预处理工作,这包括删除文本中的标点符号,特殊符号,还要删除一些无意义的常用词(stopword),因为这些词和符号对系统分析预测文本的内容没有任何帮助,反而会增加计算的复杂度和增加系统开销,所有在使用这些文本数据之前必须要将它们清理干净。"
      ]
    },
    {
      "cell_type": "code",
      "metadata": {
        "id": "f0GCA1OFty_U",
        "colab_type": "code",
        "colab": {}
      },
      "source": [
        "#定义删除除字母,数字，汉字以外的所有符号的函数\n",
        "def remove_punctuation(line):\n",
        "    line = str(line)\n",
        "    if line.strip()=='':\n",
        "        return ''\n",
        "    rule = re.compile(u\"[^a-zA-Z0-9\\u4E00-\\u9FA5]\")\n",
        "    line = rule.sub('',line)\n",
        "    return line\n",
        " \n",
        "def stopwordslist(filepath):  \n",
        "    stopwords = [line.strip() for line in open(filepath, 'r', encoding='utf-8').readlines()]  \n",
        "    return stopwords  \n",
        "\n",
        "#加载停用词\n",
        "stopwords = stopwordslist(\"./drive/My Drive/data/chineseStopWords.txt\")"
      ],
      "execution_count": 0,
      "outputs": []
    },
    {
      "cell_type": "markdown",
      "metadata": {
        "id": "j-lQ-HZ5ZYXf",
        "colab_type": "text"
      },
      "source": [
        "中文停用词包含了很多日常使用频率很高的常用词,如 吧，吗，呢，啥等一些感叹词等,这些高频常用词无法反应出文本的主要意思,所以要被过滤掉。\n"
      ]
    },
    {
      "cell_type": "code",
      "metadata": {
        "id": "f7zcm7w1tzFH",
        "colab_type": "code",
        "outputId": "f765fafe-bf81-4318-e97c-316576801a5d",
        "colab": {
          "base_uri": "https://localhost:8080/",
          "height": 359
        }
      },
      "source": [
        "df['clean_review'] = df['review'].apply(remove_punctuation)\n",
        "df.sample(10)"
      ],
      "execution_count": 9,
      "outputs": [
        {
          "output_type": "execute_result",
          "data": {
            "text/html": [
              "<div>\n",
              "<style scoped>\n",
              "    .dataframe tbody tr th:only-of-type {\n",
              "        vertical-align: middle;\n",
              "    }\n",
              "\n",
              "    .dataframe tbody tr th {\n",
              "        vertical-align: top;\n",
              "    }\n",
              "\n",
              "    .dataframe thead th {\n",
              "        text-align: right;\n",
              "    }\n",
              "</style>\n",
              "<table border=\"1\" class=\"dataframe\">\n",
              "  <thead>\n",
              "    <tr style=\"text-align: right;\">\n",
              "      <th></th>\n",
              "      <th>cat</th>\n",
              "      <th>label</th>\n",
              "      <th>review</th>\n",
              "      <th>clean_review</th>\n",
              "    </tr>\n",
              "  </thead>\n",
              "  <tbody>\n",
              "    <tr>\n",
              "      <th>49320</th>\n",
              "      <td>计算机</td>\n",
              "      <td>1</td>\n",
              "      <td>外观有够炫，很漂亮，看着用着都舒心，爱不释手……悬浮键手感不错，性价比很高，跟其他牌子的本本...</td>\n",
              "      <td>外观有够炫很漂亮看着用着都舒心爱不释手悬浮键手感不错性价比很高跟其他牌子的本本放那一比啥都不...</td>\n",
              "    </tr>\n",
              "    <tr>\n",
              "      <th>17530</th>\n",
              "      <td>水果</td>\n",
              "      <td>1</td>\n",
              "      <td>没有，前几次买的好总是，能遇到，里面是烂的</td>\n",
              "      <td>没有前几次买的好总是能遇到里面是烂的</td>\n",
              "    </tr>\n",
              "    <tr>\n",
              "      <th>11575</th>\n",
              "      <td>平板</td>\n",
              "      <td>0</td>\n",
              "      <td>要的是通话版，发过的不能通话。问了几天客服，也不给解决。太气人了</td>\n",
              "      <td>要的是通话版发过的不能通话问了几天客服也不给解决太气人了</td>\n",
              "    </tr>\n",
              "    <tr>\n",
              "      <th>6509</th>\n",
              "      <td>平板</td>\n",
              "      <td>1</td>\n",
              "      <td>好！非常满意！这速度点赞</td>\n",
              "      <td>好非常满意这速度点赞</td>\n",
              "    </tr>\n",
              "    <tr>\n",
              "      <th>44745</th>\n",
              "      <td>衣服</td>\n",
              "      <td>0</td>\n",
              "      <td>差劲，没法说了，压根没法穿</td>\n",
              "      <td>差劲没法说了压根没法穿</td>\n",
              "    </tr>\n",
              "    <tr>\n",
              "      <th>53023</th>\n",
              "      <td>酒店</td>\n",
              "      <td>1</td>\n",
              "      <td>本人于2008年6月5日入住该酒店标准间。装修很别致，设施也不错，前台服务很好。早餐品种不多...</td>\n",
              "      <td>本人于2008年6月5日入住该酒店标准间装修很别致设施也不错前台服务很好早餐品种不多但味道不...</td>\n",
              "    </tr>\n",
              "    <tr>\n",
              "      <th>1687</th>\n",
              "      <td>书籍</td>\n",
              "      <td>1</td>\n",
              "      <td>读南先生的书,就如同在迷雾中行走时突然看到前方有一个光亮在远远地牵引着你,让你心中为一之一振...</td>\n",
              "      <td>读南先生的书就如同在迷雾中行走时突然看到前方有一个光亮在远远地牵引着你让你心中为一之一振对于...</td>\n",
              "    </tr>\n",
              "    <tr>\n",
              "      <th>30660</th>\n",
              "      <td>洗发水</td>\n",
              "      <td>1</td>\n",
              "      <td>清扬男士，夏天用特别好，去油腻，清爽</td>\n",
              "      <td>清扬男士夏天用特别好去油腻清爽</td>\n",
              "    </tr>\n",
              "    <tr>\n",
              "      <th>43144</th>\n",
              "      <td>衣服</td>\n",
              "      <td>1</td>\n",
              "      <td>宝贝已收到 质量不错 款式漂亮 做工精美 很满意的一次购物</td>\n",
              "      <td>宝贝已收到质量不错款式漂亮做工精美很满意的一次购物</td>\n",
              "    </tr>\n",
              "    <tr>\n",
              "      <th>16009</th>\n",
              "      <td>手机</td>\n",
              "      <td>0</td>\n",
              "      <td>1.通话时有些回音。2.外觀設計并无新意。3.反应速度太慢。4.摄像功能像个花花枕头，不实用...</td>\n",
              "      <td>1通话时有些回音2外觀設計并无新意3反应速度太慢4摄像功能像个花花枕头不实用拍的时候有水波纹...</td>\n",
              "    </tr>\n",
              "  </tbody>\n",
              "</table>\n",
              "</div>"
            ],
            "text/plain": [
              "       cat  ...                                       clean_review\n",
              "49320  计算机  ...  外观有够炫很漂亮看着用着都舒心爱不释手悬浮键手感不错性价比很高跟其他牌子的本本放那一比啥都不...\n",
              "17530   水果  ...                                 没有前几次买的好总是能遇到里面是烂的\n",
              "11575   平板  ...                       要的是通话版发过的不能通话问了几天客服也不给解决太气人了\n",
              "6509    平板  ...                                         好非常满意这速度点赞\n",
              "44745   衣服  ...                                        差劲没法说了压根没法穿\n",
              "53023   酒店  ...  本人于2008年6月5日入住该酒店标准间装修很别致设施也不错前台服务很好早餐品种不多但味道不...\n",
              "1687    书籍  ...  读南先生的书就如同在迷雾中行走时突然看到前方有一个光亮在远远地牵引着你让你心中为一之一振对于...\n",
              "30660  洗发水  ...                                    清扬男士夏天用特别好去油腻清爽\n",
              "43144   衣服  ...                          宝贝已收到质量不错款式漂亮做工精美很满意的一次购物\n",
              "16009   手机  ...  1通话时有些回音2外觀設計并无新意3反应速度太慢4摄像功能像个花花枕头不实用拍的时候有水波纹...\n",
              "\n",
              "[10 rows x 4 columns]"
            ]
          },
          "metadata": {
            "tags": []
          },
          "execution_count": 9
        }
      ]
    },
    {
      "cell_type": "markdown",
      "metadata": {
        "id": "-p7sqWxKadqn",
        "colab_type": "text"
      },
      "source": [
        "我们过滤掉了review中的标点符号和一些特殊符号，并生成了一个新的字段 clean_review。接下来我们要在clean_review的基础上进行分词,把每个评论内容分成由空格隔开的一个一个单独的词语。"
      ]
    },
    {
      "cell_type": "code",
      "metadata": {
        "id": "Gy0f4q63tzL1",
        "colab_type": "code",
        "outputId": "3ea76f1c-87ee-46c4-93a1-5cc013b8de1c",
        "colab": {
          "base_uri": "https://localhost:8080/",
          "height": 361
        }
      },
      "source": [
        "#分词，并过滤停用词\n",
        "df['cut_review'] = df['clean_review'].apply(lambda x: \" \".join([w for w in list(jb.cut(x)) if w not in stopwords]))\n",
        "df.head()"
      ],
      "execution_count": 10,
      "outputs": [
        {
          "output_type": "stream",
          "text": [
            "Building prefix dict from the default dictionary ...\n",
            "Dumping model to file cache /tmp/jieba.cache\n",
            "Loading model cost 0.776 seconds.\n",
            "Prefix dict has been built successfully.\n"
          ],
          "name": "stderr"
        },
        {
          "output_type": "execute_result",
          "data": {
            "text/html": [
              "<div>\n",
              "<style scoped>\n",
              "    .dataframe tbody tr th:only-of-type {\n",
              "        vertical-align: middle;\n",
              "    }\n",
              "\n",
              "    .dataframe tbody tr th {\n",
              "        vertical-align: top;\n",
              "    }\n",
              "\n",
              "    .dataframe thead th {\n",
              "        text-align: right;\n",
              "    }\n",
              "</style>\n",
              "<table border=\"1\" class=\"dataframe\">\n",
              "  <thead>\n",
              "    <tr style=\"text-align: right;\">\n",
              "      <th></th>\n",
              "      <th>cat</th>\n",
              "      <th>label</th>\n",
              "      <th>review</th>\n",
              "      <th>clean_review</th>\n",
              "      <th>cut_review</th>\n",
              "    </tr>\n",
              "  </thead>\n",
              "  <tbody>\n",
              "    <tr>\n",
              "      <th>0</th>\n",
              "      <td>书籍</td>\n",
              "      <td>1</td>\n",
              "      <td>﻿做父母一定要有刘墉这样的心态，不断地学习，不断地进步，不断地给自己补充新鲜血液，让自己保持...</td>\n",
              "      <td>做父母一定要有刘墉这样的心态不断地学习不断地进步不断地给自己补充新鲜血液让自己保持一颗年轻的...</td>\n",
              "      <td>做 父母 一定 刘墉 心态 不断 学习 不断 进步 不断 补充 新鲜血液 保持 一颗 年轻 ...</td>\n",
              "    </tr>\n",
              "    <tr>\n",
              "      <th>1</th>\n",
              "      <td>书籍</td>\n",
              "      <td>1</td>\n",
              "      <td>作者真有英国人严谨的风格，提出观点、进行论述论证，尽管本人对物理学了解不深，但是仍然能感受到...</td>\n",
              "      <td>作者真有英国人严谨的风格提出观点进行论述论证尽管本人对物理学了解不深但是仍然能感受到真理的火...</td>\n",
              "      <td>作者 真有 英国人 严谨 风格 提出 观点 进行 论述 论证 物理学 了解 不深 仍然 感受...</td>\n",
              "    </tr>\n",
              "    <tr>\n",
              "      <th>2</th>\n",
              "      <td>书籍</td>\n",
              "      <td>1</td>\n",
              "      <td>作者长篇大论借用详细报告数据处理工作和计算结果支持其新观点。为什么荷兰曾经县有欧洲最高的生产...</td>\n",
              "      <td>作者长篇大论借用详细报告数据处理工作和计算结果支持其新观点为什么荷兰曾经县有欧洲最高的生产率...</td>\n",
              "      <td>作者 长篇大论 借用 详细 报告 数据处理 工作 计算结果 支持 其新 观点 荷兰 曾经 县...</td>\n",
              "    </tr>\n",
              "    <tr>\n",
              "      <th>3</th>\n",
              "      <td>书籍</td>\n",
              "      <td>1</td>\n",
              "      <td>作者在战几时之前用了＂拥抱＂令人叫绝．日本如果没有战败，就有会有美军的占领，没胡官僚主义的延...</td>\n",
              "      <td>作者在战几时之前用了拥抱令人叫绝日本如果没有战败就有会有美军的占领没胡官僚主义的延续没有战后...</td>\n",
              "      <td>作者 战 之前 拥抱 令人 叫绝 日本 没有 战败 会 美军 占领 没胡 官僚主义 延续 没...</td>\n",
              "    </tr>\n",
              "    <tr>\n",
              "      <th>4</th>\n",
              "      <td>书籍</td>\n",
              "      <td>1</td>\n",
              "      <td>作者在少年时即喜阅读，能看出他精读了无数经典，因而他有一个庞大的内心世界。他的作品最难能可贵...</td>\n",
              "      <td>作者在少年时即喜阅读能看出他精读了无数经典因而他有一个庞大的内心世界他的作品最难能可贵的有两...</td>\n",
              "      <td>作者 少年 时即 喜 阅读 看出 精读 无数 经典 一个 庞大 内心世界 作品 难能可贵 两...</td>\n",
              "    </tr>\n",
              "  </tbody>\n",
              "</table>\n",
              "</div>"
            ],
            "text/plain": [
              "  cat  ...                                         cut_review\n",
              "0  书籍  ...  做 父母 一定 刘墉 心态 不断 学习 不断 进步 不断 补充 新鲜血液 保持 一颗 年轻 ...\n",
              "1  书籍  ...  作者 真有 英国人 严谨 风格 提出 观点 进行 论述 论证 物理学 了解 不深 仍然 感受...\n",
              "2  书籍  ...  作者 长篇大论 借用 详细 报告 数据处理 工作 计算结果 支持 其新 观点 荷兰 曾经 县...\n",
              "3  书籍  ...  作者 战 之前 拥抱 令人 叫绝 日本 没有 战败 会 美军 占领 没胡 官僚主义 延续 没...\n",
              "4  书籍  ...  作者 少年 时即 喜 阅读 看出 精读 无数 经典 一个 庞大 内心世界 作品 难能可贵 两...\n",
              "\n",
              "[5 rows x 5 columns]"
            ]
          },
          "metadata": {
            "tags": []
          },
          "execution_count": 10
        }
      ]
    },
    {
      "cell_type": "markdown",
      "metadata": {
        "id": "Jh5CMc8DdNPx",
        "colab_type": "text"
      },
      "source": [
        "# 建模\n",
        "\n",
        " 首先我们要数据集中拆分出训练集和验证集,我们将80%的数据作为训练集,20%的数据作为验证集，我们通过分层抽样的方式来随机抽样，注意在这里我们使用了sklearn的train_test_split的方法来抽样,并使用了stratify参数来保证抽样后,训练集和验证集中的各个类目的占比与原数据集保持一致。"
      ]
    },
    {
      "cell_type": "code",
      "metadata": {
        "id": "1X_6PoqUtzQr",
        "colab_type": "code",
        "outputId": "94732fd8-5ca7-43e1-a530-00319f1acb17",
        "colab": {
          "base_uri": "https://localhost:8080/",
          "height": 53
        }
      },
      "source": [
        "#拆分训练集和测试集\n",
        "X_train, X_validation, Y_train, Y_validation = train_test_split(df[['cut_review']],df[[\"cat\"]], test_size = 0.2,stratify=df.cat)\n",
        "print(len(X_train))\n",
        "print(len(X_validation))"
      ],
      "execution_count": 21,
      "outputs": [
        {
          "output_type": "stream",
          "text": [
            "50219\n",
            "12555\n"
          ],
          "name": "stdout"
        }
      ]
    },
    {
      "cell_type": "code",
      "metadata": {
        "id": "acL0ARkztzJv",
        "colab_type": "code",
        "outputId": "ba40081b-222b-41b2-905a-c80748000633",
        "colab": {
          "base_uri": "https://localhost:8080/",
          "height": 215
        }
      },
      "source": [
        "Y_train.cat.value_counts()/len(Y_train)"
      ],
      "execution_count": 22,
      "outputs": [
        {
          "output_type": "execute_result",
          "data": {
            "text/plain": [
              "酒店     0.159302\n",
              "水果     0.159302\n",
              "平板     0.159302\n",
              "洗发水    0.159302\n",
              "衣服     0.159302\n",
              "计算机    0.063601\n",
              "书籍     0.061351\n",
              "手机     0.036998\n",
              "蒙牛     0.032378\n",
              "热水器    0.009160\n",
              "Name: cat, dtype: float64"
            ]
          },
          "metadata": {
            "tags": []
          },
          "execution_count": 22
        }
      ]
    },
    {
      "cell_type": "code",
      "metadata": {
        "id": "AxRMq888hBY2",
        "colab_type": "code",
        "outputId": "7b21bfc1-831a-46e7-ce8e-c6a36feee4b1",
        "colab": {
          "base_uri": "https://localhost:8080/",
          "height": 215
        }
      },
      "source": [
        "Y_validation.cat.value_counts()/len(Y_validation)"
      ],
      "execution_count": 23,
      "outputs": [
        {
          "output_type": "execute_result",
          "data": {
            "text/plain": [
              "酒店     0.159299\n",
              "水果     0.159299\n",
              "平板     0.159299\n",
              "洗发水    0.159299\n",
              "衣服     0.159299\n",
              "计算机    0.063560\n",
              "书籍     0.061330\n",
              "手机     0.037037\n",
              "蒙牛     0.032417\n",
              "热水器    0.009160\n",
              "Name: cat, dtype: float64"
            ]
          },
          "metadata": {
            "tags": []
          },
          "execution_count": 23
        }
      ]
    },
    {
      "cell_type": "code",
      "metadata": {
        "id": "3dADGUfptzDB",
        "colab_type": "code",
        "colab": {}
      },
      "source": [
        "\n",
        "vocab_size = 5000\n",
        "embedding_dim = 64\n",
        "max_length = 150\n",
        "trunc_type = 'post'\n",
        "padding_type = 'post'\n",
        "oov_tok = '<OOV>'"
      ],
      "execution_count": 0,
      "outputs": []
    },
    {
      "cell_type": "code",
      "metadata": {
        "id": "IeTTZ3SSty4S",
        "colab_type": "code",
        "colab": {}
      },
      "source": [
        "tokenizer = Tokenizer(num_words = vocab_size, oov_token=oov_tok)\n",
        "tokenizer.fit_on_texts(X_train.cut_review.values)\n",
        "word_index = tokenizer.word_index\n",
        "reverse_word_index = dict([(value, key) for (key, value) in word_index.items()])"
      ],
      "execution_count": 0,
      "outputs": []
    },
    {
      "cell_type": "code",
      "metadata": {
        "id": "RZeoOr-Sty12",
        "colab_type": "code",
        "outputId": "69fa2f96-3293-49e9-fe4c-8dd5a3e6e426",
        "colab": {
          "base_uri": "https://localhost:8080/",
          "height": 233
        }
      },
      "source": [
        "print(len(list(word_index.items())))\n",
        "print()\n",
        "list(word_index.items())[:10]"
      ],
      "execution_count": 26,
      "outputs": [
        {
          "output_type": "stream",
          "text": [
            "62476\n",
            "\n"
          ],
          "name": "stdout"
        },
        {
          "output_type": "execute_result",
          "data": {
            "text/plain": [
              "[('<OOV>', 1),\n",
              " ('买', 2),\n",
              " ('不错', 3),\n",
              " ('没有', 4),\n",
              " ('酒店', 5),\n",
              " ('京东', 6),\n",
              " ('说', 7),\n",
              " ('房间', 8),\n",
              " ('一个', 9),\n",
              " ('感觉', 10)]"
            ]
          },
          "metadata": {
            "tags": []
          },
          "execution_count": 26
        }
      ]
    },
    {
      "cell_type": "code",
      "metadata": {
        "id": "S0nOSGtknai-",
        "colab_type": "code",
        "colab": {}
      },
      "source": [
        ""
      ],
      "execution_count": 0,
      "outputs": []
    },
    {
      "cell_type": "code",
      "metadata": {
        "id": "vRDmrC4mtyvS",
        "colab_type": "code",
        "colab": {}
      },
      "source": [
        "X_train_sequences = tokenizer.texts_to_sequences(X_train.cut_review.values)\n",
        "X_train_padded = pad_sequences(X_train_sequences, maxlen=max_length, padding=padding_type, truncating=trunc_type)\n",
        "\n",
        "X_validation_sequences = tokenizer.texts_to_sequences(X_validation.cut_review.values)\n",
        "X_validation_padded = pad_sequences(X_validation_sequences, maxlen=max_length, padding=padding_type, truncating=trunc_type)\n",
        "\n"
      ],
      "execution_count": 0,
      "outputs": []
    },
    {
      "cell_type": "code",
      "metadata": {
        "id": "WtWvvR0-nx35",
        "colab_type": "code",
        "outputId": "55dc433d-6d49-4f94-d3f4-ab08859f6336",
        "colab": {
          "base_uri": "https://localhost:8080/",
          "height": 305
        }
      },
      "source": [
        "index = 10 \n",
        "print(X_train.cut_review.values[index])\n",
        "print()\n",
        "print(X_train_sequences[index])\n",
        "print()\n",
        "X_train_padded[index]\n"
      ],
      "execution_count": 30,
      "outputs": [
        {
          "output_type": "stream",
          "text": [
            "发货 慢 到货 长成 京东 应该 佳农 更 应该\n",
            "\n",
            "[162, 246, 356, 1, 6, 76, 1, 109, 76]\n",
            "\n"
          ],
          "name": "stdout"
        },
        {
          "output_type": "execute_result",
          "data": {
            "text/plain": [
              "array([162, 246, 356,   1,   6,  76,   1, 109,  76,   0,   0,   0,   0,\n",
              "         0,   0,   0,   0,   0,   0,   0,   0,   0,   0,   0,   0,   0,\n",
              "         0,   0,   0,   0,   0,   0,   0,   0,   0,   0,   0,   0,   0,\n",
              "         0,   0,   0,   0,   0,   0,   0,   0,   0,   0,   0,   0,   0,\n",
              "         0,   0,   0,   0,   0,   0,   0,   0,   0,   0,   0,   0,   0,\n",
              "         0,   0,   0,   0,   0,   0,   0,   0,   0,   0,   0,   0,   0,\n",
              "         0,   0,   0,   0,   0,   0,   0,   0,   0,   0,   0,   0,   0,\n",
              "         0,   0,   0,   0,   0,   0,   0,   0,   0,   0,   0,   0,   0,\n",
              "         0,   0,   0,   0,   0,   0,   0,   0,   0,   0,   0,   0,   0,\n",
              "         0,   0,   0,   0,   0,   0,   0,   0,   0,   0,   0,   0,   0,\n",
              "         0,   0,   0,   0,   0,   0,   0,   0,   0,   0,   0,   0,   0,\n",
              "         0,   0,   0,   0,   0,   0,   0], dtype=int32)"
            ]
          },
          "metadata": {
            "tags": []
          },
          "execution_count": 30
        }
      ]
    },
    {
      "cell_type": "code",
      "metadata": {
        "id": "_FXrRWfC03aP",
        "colab_type": "code",
        "outputId": "f8fbce21-665d-46b1-b325-9b16430541c5",
        "colab": {
          "base_uri": "https://localhost:8080/",
          "height": 125
        }
      },
      "source": [
        "print(\"104 ->\",reverse_word_index[104])\n",
        "print(\"3 ->\",reverse_word_index[3])\n",
        "print(\"120 ->\",reverse_word_index[120])\n",
        "print()\n",
        "print(\"贴身 ->\",dict(list(word_index.items()))[\"贴身\"])\n",
        "print(\"1 ->\",reverse_word_index[1])\n"
      ],
      "execution_count": 31,
      "outputs": [
        {
          "output_type": "stream",
          "text": [
            "104 -> 超市\n",
            "3 -> 不错\n",
            "120 -> 送货\n",
            "\n",
            "贴身 -> 7472\n",
            "1 -> <OOV>\n"
          ],
          "name": "stdout"
        }
      ]
    },
    {
      "cell_type": "code",
      "metadata": {
        "id": "SlB4ZWettypJ",
        "colab_type": "code",
        "outputId": "9b2f7a4c-e3b7-484f-91ea-8b17d91f87fe",
        "colab": {
          "base_uri": "https://localhost:8080/",
          "height": 125
        }
      },
      "source": [
        "label_tokenizer = Tokenizer()\n",
        "label_tokenizer.fit_on_texts(df.cat.values)\n",
        "\n",
        "Y_training_cat_seq = np.array(label_tokenizer.texts_to_sequences(Y_train.cat.values))\n",
        "Y_validation_cat_seq = np.array(label_tokenizer.texts_to_sequences(Y_validation.cat.values))\n",
        "\n",
        "label_word_index = label_tokenizer.word_index\n",
        "\n",
        "print(dict(list(label_word_index.items())))\n",
        "print(Y_training_cat_seq.shape)\n",
        "print()\n",
        "print(Y_training_cat_seq[0])\n",
        "print(Y_training_cat_seq[1])\n",
        "print(Y_training_cat_seq[2])\n"
      ],
      "execution_count": 32,
      "outputs": [
        {
          "output_type": "stream",
          "text": [
            "{'平板': 1, '水果': 2, '洗发水': 3, '衣服': 4, '酒店': 5, '计算机': 6, '书籍': 7, '手机': 8, '蒙牛': 9, '热水器': 10}\n",
            "(50219, 1)\n",
            "\n",
            "[9]\n",
            "[2]\n",
            "[1]\n"
          ],
          "name": "stdout"
        }
      ]
    },
    {
      "cell_type": "code",
      "metadata": {
        "id": "0wIz-Yt5tyjS",
        "colab_type": "code",
        "outputId": "10c1f419-4320-475d-8888-f867d9f1a04b",
        "colab": {
          "base_uri": "https://localhost:8080/",
          "height": 91
        }
      },
      "source": [
        "reverse_word_index = dict([(value, key) for (key, value) in word_index.items()])\n",
        "\n",
        "def decode_article(text):\n",
        "    return ' '.join([reverse_word_index.get(i, '?') for i in text])\n",
        "print(decode_article(X_train_padded[0]))\n",
        "print('------------------------------------------------')\n",
        "print(X_train.cut_review.values[0])"
      ],
      "execution_count": 33,
      "outputs": [
        {
          "output_type": "stream",
          "text": [
            "喜欢 蒙牛 <OOV> 你好 <OOV> ? ? ? ? ? ? ? ? ? ? ? ? ? ? ? ? ? ? ? ? ? ? ? ? ? ? ? ? ? ? ? ? ? ? ? ? ? ? ? ? ? ? ? ? ? ? ? ? ? ? ? ? ? ? ? ? ? ? ? ? ? ? ? ? ? ? ? ? ? ? ? ? ? ? ? ? ? ? ? ? ? ? ? ? ? ? ? ? ? ? ? ? ? ? ? ? ? ? ? ? ? ? ? ? ? ? ? ? ? ? ? ? ? ? ? ? ? ? ? ? ? ? ? ? ? ? ? ? ? ? ? ? ? ? ? ? ? ? ? ? ? ? ? ? ?\n",
            "------------------------------------------------\n",
            "喜欢 蒙牛 雀巢 你好 那口儿\n"
          ],
          "name": "stdout"
        }
      ]
    },
    {
      "cell_type": "code",
      "metadata": {
        "id": "q0gFILf3tycD",
        "colab_type": "code",
        "outputId": "9a76b112-dca1-4e51-9c94-7f74c77c0b7d",
        "colab": {
          "base_uri": "https://localhost:8080/",
          "height": 305
        }
      },
      "source": [
        "model = tf.keras.Sequential([\n",
        "    \n",
        "    tf.keras.layers.Embedding(vocab_size, embedding_dim),\n",
        "    tf.keras.layers.Bidirectional(tf.keras.layers.LSTM(embedding_dim)),\n",
        "    tf.keras.layers.Dense(embedding_dim, activation='relu'),\n",
        "    tf.keras.layers.Dense(11, activation='softmax')\n",
        "])\n",
        "model.summary()"
      ],
      "execution_count": 34,
      "outputs": [
        {
          "output_type": "stream",
          "text": [
            "Model: \"sequential\"\n",
            "_________________________________________________________________\n",
            "Layer (type)                 Output Shape              Param #   \n",
            "=================================================================\n",
            "embedding (Embedding)        (None, None, 64)          320000    \n",
            "_________________________________________________________________\n",
            "bidirectional (Bidirectional (None, 128)               66048     \n",
            "_________________________________________________________________\n",
            "dense (Dense)                (None, 64)                8256      \n",
            "_________________________________________________________________\n",
            "dense_1 (Dense)              (None, 11)                715       \n",
            "=================================================================\n",
            "Total params: 395,019\n",
            "Trainable params: 395,019\n",
            "Non-trainable params: 0\n",
            "_________________________________________________________________\n"
          ],
          "name": "stdout"
        }
      ]
    },
    {
      "cell_type": "code",
      "metadata": {
        "id": "p3NBM_CptyY7",
        "colab_type": "code",
        "colab": {}
      },
      "source": [
        "model.compile(loss='sparse_categorical_crossentropy', optimizer='adam', metrics=['accuracy'])"
      ],
      "execution_count": 0,
      "outputs": []
    },
    {
      "cell_type": "code",
      "metadata": {
        "id": "4xf9ROmaxJS9",
        "colab_type": "code",
        "outputId": "33d242c2-c40f-4d1f-a41d-345b387aecbd",
        "colab": {
          "base_uri": "https://localhost:8080/",
          "height": 395
        }
      },
      "source": [
        "num_epochs = 10\n",
        "history = model.fit(X_train_padded, \n",
        "                    Y_training_cat_seq, \n",
        "                    epochs=num_epochs, \n",
        "                    validation_data=(X_validation_padded, Y_validation_cat_seq), \n",
        "                    verbose=2)"
      ],
      "execution_count": 36,
      "outputs": [
        {
          "output_type": "stream",
          "text": [
            "Train on 50219 samples, validate on 12555 samples\n",
            "Epoch 1/10\n",
            "50219/50219 - 216s - loss: 0.7027 - accuracy: 0.7567 - val_loss: 0.4106 - val_accuracy: 0.8660\n",
            "Epoch 2/10\n",
            "50219/50219 - 213s - loss: 0.3249 - accuracy: 0.8889 - val_loss: 0.3653 - val_accuracy: 0.8764\n",
            "Epoch 3/10\n",
            "50219/50219 - 213s - loss: 0.2682 - accuracy: 0.9081 - val_loss: 0.3600 - val_accuracy: 0.8794\n",
            "Epoch 4/10\n",
            "50219/50219 - 214s - loss: 0.2290 - accuracy: 0.9199 - val_loss: 0.3561 - val_accuracy: 0.8793\n",
            "Epoch 5/10\n",
            "50219/50219 - 215s - loss: 0.2042 - accuracy: 0.9279 - val_loss: 0.3692 - val_accuracy: 0.8790\n",
            "Epoch 6/10\n",
            "50219/50219 - 222s - loss: 0.1827 - accuracy: 0.9349 - val_loss: 0.3941 - val_accuracy: 0.8775\n",
            "Epoch 7/10\n",
            "50219/50219 - 218s - loss: 0.1624 - accuracy: 0.9401 - val_loss: 0.4188 - val_accuracy: 0.8768\n",
            "Epoch 8/10\n",
            "50219/50219 - 211s - loss: 0.1502 - accuracy: 0.9451 - val_loss: 0.4217 - val_accuracy: 0.8726\n",
            "Epoch 9/10\n",
            "50219/50219 - 212s - loss: 0.1337 - accuracy: 0.9509 - val_loss: 0.4475 - val_accuracy: 0.8740\n",
            "Epoch 10/10\n",
            "50219/50219 - 212s - loss: 0.1225 - accuracy: 0.9547 - val_loss: 0.4839 - val_accuracy: 0.8745\n"
          ],
          "name": "stdout"
        }
      ]
    },
    {
      "cell_type": "code",
      "metadata": {
        "id": "Czd41c1WxJWN",
        "colab_type": "code",
        "outputId": "f3cb2b8a-5c6b-4608-ff72-b5c65f3a121a",
        "colab": {
          "base_uri": "https://localhost:8080/",
          "height": 541
        }
      },
      "source": [
        "def plot_graphs(history, string):    \n",
        "    plt.plot(history.history[string])\n",
        "    plt.plot(history.history['val_'+string])\n",
        "    plt.xlabel(\"Epochs\")\n",
        "    plt.ylabel(string)\n",
        "    plt.legend([string, 'val_'+string])\n",
        "    plt.show()\n",
        "\n",
        "plot_graphs(history, \"accuracy\")\n",
        "plot_graphs(history, \"loss\")"
      ],
      "execution_count": 38,
      "outputs": [
        {
          "output_type": "display_data",
          "data": {
            "image/png": "[encoded data removed]",
            "text/plain": [
              "<Figure size 432x288 with 1 Axes>"
            ]
          },
          "metadata": {
            "tags": []
          }
        },
        {
          "output_type": "display_data",
          "data": {
            "image/png": "[encoded data removed]",
            "text/plain": [
              "<Figure size 432x288 with 1 Axes>"
            ]
          },
          "metadata": {
            "tags": []
          }
        }
      ]
    },
    {
      "cell_type": "code",
      "metadata": {
        "id": "zAKL_F-wxJYy",
        "colab_type": "code",
        "colab": {}
      },
      "source": [
        "import seaborn as sns\n",
        "from sklearn.metrics import accuracy_score, confusion_matrix\n",
        " \n",
        "y_pred = model.predict(X_validation_padded)\n",
        "y_pred = y_pred.argmax(axis = 1)\n"
      ],
      "execution_count": 0,
      "outputs": []
    },
    {
      "cell_type": "code",
      "metadata": {
        "id": "Tt3MPkFXxJhu",
        "colab_type": "code",
        "colab": {
          "base_uri": "https://localhost:8080/",
          "height": 523
        },
        "outputId": "3c971497-4554-470d-88af-9731e859e815"
      },
      "source": [
        "labels=[1,2,3,4,5,6,7,8,9,10] \n",
        "conf_mat = confusion_matrix(Y_validation_cat_seq, y_pred)\n",
        "fig, ax = plt.subplots(figsize=(10,8))\n",
        "sns.heatmap(conf_mat, annot=True, fmt='d',xticklabels=labels, yticklabels=labels)\n",
        "plt.ylabel('actual results',fontsize=18);\n",
        "plt.xlabel('predict result',fontsize=18);\n",
        "print(dict(list(label_word_index.items())))\n",
        "\n"
      ],
      "execution_count": 83,
      "outputs": [
        {
          "output_type": "stream",
          "text": [
            "{'平板': 1, '水果': 2, '洗发水': 3, '衣服': 4, '酒店': 5, '计算机': 6, '书籍': 7, '手机': 8, '蒙牛': 9, '热水器': 10}\n"
          ],
          "name": "stdout"
        },
        {
          "output_type": "display_data",
          "data": {
            "image/png": "[encoded data removed]",
            "text/plain": [
              "<Figure size 720x576 with 2 Axes>"
            ]
          },
          "metadata": {
            "tags": []
          }
        }
      ]
    },
    {
      "cell_type": "code",
      "metadata": {
        "id": "Oh2m0x1exJku",
        "colab_type": "code",
        "colab": {
          "base_uri": "https://localhost:8080/",
          "height": 359
        },
        "outputId": "413572d6-0981-46e3-83c7-a1a9d122fa63"
      },
      "source": [
        "from  sklearn.metrics import classification_report \n",
        "print('accuracy %s' % accuracy_score(y_pred, Y_validation_cat_seq))\n",
        "print(classification_report(Y_validation_cat_seq, y_pred,target_names=[str(w) for w in labels]))\n",
        "print(dict(list(label_word_index.items())))"
      ],
      "execution_count": 81,
      "outputs": [
        {
          "output_type": "stream",
          "text": [
            "accuracy 0.8744723217841497\n",
            "              precision    recall  f1-score   support\n",
            "\n",
            "           1       0.80      0.78      0.79      2000\n",
            "           2       0.89      0.89      0.89      2000\n",
            "           3       0.80      0.81      0.81      2000\n",
            "           4       0.86      0.90      0.88      2000\n",
            "           5       0.99      0.97      0.98      2000\n",
            "           6       0.87      0.91      0.89       798\n",
            "           7       0.93      0.93      0.93       770\n",
            "           8       0.87      0.81      0.84       465\n",
            "           9       1.00      1.00      1.00       407\n",
            "          10       0.67      0.51      0.58       115\n",
            "\n",
            "    accuracy                           0.87     12555\n",
            "   macro avg       0.87      0.85      0.86     12555\n",
            "weighted avg       0.87      0.87      0.87     12555\n",
            "\n",
            "{'平板': 1, '水果': 2, '洗发水': 3, '衣服': 4, '酒店': 5, '计算机': 6, '书籍': 7, '手机': 8, '蒙牛': 9, '热水器': 10}\n"
          ],
          "name": "stdout"
        }
      ]
    },
    {
      "cell_type": "markdown",
      "metadata": {
        "id": "1n8CqEMMBY4p",
        "colab_type": "text"
      },
      "source": [
        ""
      ]
    }
  ]
}