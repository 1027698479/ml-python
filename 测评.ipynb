{
 "cells": [
  {
   "cell_type": "code",
   "execution_count": 37,
   "metadata": {},
   "outputs": [],
   "source": [
    "%matplotlib inline\n",
    "import numpy as np\n",
    "import pandas as pd\n",
    "import datetime\n",
    "import lightgbm as lgb\n",
    "import matplotlib.pyplot as plt\n",
    "from sklearn.cluster import KMeans\n",
    "import cufflinks as cf\n",
    "%reload_ext autoreload\n",
    "%autoreload 2\n",
    "cf.set_config_file(world_readable=True,theme='pearl')\n",
    "from IPython.core.interactiveshell import InteractiveShell  \n",
    "InteractiveShell.ast_node_interactivity = \"all\""
   ]
  },
  {
   "cell_type": "code",
   "execution_count": 38,
   "metadata": {},
   "outputs": [],
   "source": [
    "df = pd.read_csv('../data/ceping.csv',encoding='gb18030')\n",
    "df=df[df['年级段']==1]\n",
    "df_z = df[['Z学习动力','Z学习能力','Z学习毅力']]\n",
    "df_t = df[['T学习动力','T学习能力','T学习毅力']]"
   ]
  },
  {
   "cell_type": "code",
   "execution_count": 47,
   "metadata": {},
   "outputs": [
    {
     "data": {
      "text/html": [
       "<div>\n",
       "<style scoped>\n",
       "    .dataframe tbody tr th:only-of-type {\n",
       "        vertical-align: middle;\n",
       "    }\n",
       "\n",
       "    .dataframe tbody tr th {\n",
       "        vertical-align: top;\n",
       "    }\n",
       "\n",
       "    .dataframe thead th {\n",
       "        text-align: right;\n",
       "    }\n",
       "</style>\n",
       "<table border=\"1\" class=\"dataframe\">\n",
       "  <thead>\n",
       "    <tr style=\"text-align: right;\">\n",
       "      <th></th>\n",
       "      <th>Z学习动力</th>\n",
       "      <th>Z学习能力</th>\n",
       "      <th>Z学习毅力</th>\n",
       "      <th>categories</th>\n",
       "    </tr>\n",
       "  </thead>\n",
       "  <tbody>\n",
       "    <tr>\n",
       "      <th>0</th>\n",
       "      <td>0.326834</td>\n",
       "      <td>-0.347598</td>\n",
       "      <td>1.038155</td>\n",
       "      <td>category1</td>\n",
       "    </tr>\n",
       "    <tr>\n",
       "      <th>1</th>\n",
       "      <td>0.735795</td>\n",
       "      <td>-0.900866</td>\n",
       "      <td>0.062633</td>\n",
       "      <td>category1</td>\n",
       "    </tr>\n",
       "    <tr>\n",
       "      <th>2</th>\n",
       "      <td>0.698210</td>\n",
       "      <td>0.165055</td>\n",
       "      <td>1.190147</td>\n",
       "      <td>category1</td>\n",
       "    </tr>\n",
       "    <tr>\n",
       "      <th>3</th>\n",
       "      <td>-0.636099</td>\n",
       "      <td>-0.512471</td>\n",
       "      <td>0.000674</td>\n",
       "      <td>category4</td>\n",
       "    </tr>\n",
       "    <tr>\n",
       "      <th>4</th>\n",
       "      <td>-0.622144</td>\n",
       "      <td>-0.287632</td>\n",
       "      <td>0.452293</td>\n",
       "      <td>category4</td>\n",
       "    </tr>\n",
       "    <tr>\n",
       "      <th>5</th>\n",
       "      <td>0.695869</td>\n",
       "      <td>0.319867</td>\n",
       "      <td>1.190147</td>\n",
       "      <td>category1</td>\n",
       "    </tr>\n",
       "    <tr>\n",
       "      <th>6</th>\n",
       "      <td>0.884859</td>\n",
       "      <td>0.150280</td>\n",
       "      <td>0.816783</td>\n",
       "      <td>category1</td>\n",
       "    </tr>\n",
       "    <tr>\n",
       "      <th>7</th>\n",
       "      <td>0.784352</td>\n",
       "      <td>0.450860</td>\n",
       "      <td>0.889068</td>\n",
       "      <td>category1</td>\n",
       "    </tr>\n",
       "    <tr>\n",
       "      <th>8</th>\n",
       "      <td>0.800482</td>\n",
       "      <td>0.024850</td>\n",
       "      <td>0.807909</td>\n",
       "      <td>category1</td>\n",
       "    </tr>\n",
       "    <tr>\n",
       "      <th>9</th>\n",
       "      <td>0.953106</td>\n",
       "      <td>0.256309</td>\n",
       "      <td>0.661080</td>\n",
       "      <td>category1</td>\n",
       "    </tr>\n",
       "  </tbody>\n",
       "</table>\n",
       "</div>"
      ],
      "text/plain": [
       "      Z学习动力     Z学习能力     Z学习毅力 categories\n",
       "0  0.326834 -0.347598  1.038155  category1\n",
       "1  0.735795 -0.900866  0.062633  category1\n",
       "2  0.698210  0.165055  1.190147  category1\n",
       "3 -0.636099 -0.512471  0.000674  category4\n",
       "4 -0.622144 -0.287632  0.452293  category4\n",
       "5  0.695869  0.319867  1.190147  category1\n",
       "6  0.884859  0.150280  0.816783  category1\n",
       "7  0.784352  0.450860  0.889068  category1\n",
       "8  0.800482  0.024850  0.807909  category1\n",
       "9  0.953106  0.256309  0.661080  category1"
      ]
     },
     "execution_count": 47,
     "metadata": {},
     "output_type": "execute_result"
    }
   ],
   "source": [
    "df_z.head(10)"
   ]
  },
  {
   "cell_type": "code",
   "execution_count": 40,
   "metadata": {},
   "outputs": [
    {
     "data": {
      "text/html": [
       "<div>\n",
       "<style scoped>\n",
       "    .dataframe tbody tr th:only-of-type {\n",
       "        vertical-align: middle;\n",
       "    }\n",
       "\n",
       "    .dataframe tbody tr th {\n",
       "        vertical-align: top;\n",
       "    }\n",
       "\n",
       "    .dataframe thead th {\n",
       "        text-align: right;\n",
       "    }\n",
       "</style>\n",
       "<table border=\"1\" class=\"dataframe\">\n",
       "  <thead>\n",
       "    <tr style=\"text-align: right;\">\n",
       "      <th></th>\n",
       "      <th>Z学习动力</th>\n",
       "      <th>Z学习能力</th>\n",
       "      <th>Z学习毅力</th>\n",
       "    </tr>\n",
       "  </thead>\n",
       "  <tbody>\n",
       "    <tr>\n",
       "      <th>42</th>\n",
       "      <td>-0.955201</td>\n",
       "      <td>-0.165866</td>\n",
       "      <td>-0.763802</td>\n",
       "    </tr>\n",
       "  </tbody>\n",
       "</table>\n",
       "</div>"
      ],
      "text/plain": [
       "       Z学习动力     Z学习能力     Z学习毅力\n",
       "42 -0.955201 -0.165866 -0.763802"
      ]
     },
     "execution_count": 40,
     "metadata": {},
     "output_type": "execute_result"
    }
   ],
   "source": [
    "df_z[df_z.index==42]\n",
    "# df_t"
   ]
  },
  {
   "cell_type": "code",
   "execution_count": null,
   "metadata": {},
   "outputs": [],
   "source": []
  },
  {
   "cell_type": "code",
   "execution_count": 41,
   "metadata": {},
   "outputs": [
    {
     "data": {
      "text/plain": [
       "[<matplotlib.lines.Line2D at 0x211b1856400>]"
      ]
     },
     "execution_count": 41,
     "metadata": {},
     "output_type": "execute_result"
    },
    {
     "data": {
      "text/plain": [
       "Text(0.5, 0, '聚类集群数')"
      ]
     },
     "execution_count": 41,
     "metadata": {},
     "output_type": "execute_result"
    },
    {
     "data": {
      "text/plain": [
       "Text(0, 0.5, '分数')"
      ]
     },
     "execution_count": 41,
     "metadata": {},
     "output_type": "execute_result"
    },
    {
     "data": {
      "text/plain": [
       "Text(0.5, 1.0, 'Elbow 曲线')"
      ]
     },
     "execution_count": 41,
     "metadata": {},
     "output_type": "execute_result"
    },
    {
     "data": {
      "image/png": "[encoded data removed]",
      "text/plain": [
       "<Figure size 720x432 with 1 Axes>"
      ]
     },
     "metadata": {
      "needs_background": "light"
     },
     "output_type": "display_data"
    }
   ],
   "source": [
    "data = df_t\n",
    "n_cluster = range(1, 20)\n",
    "kmeans = [KMeans(n_clusters=i).fit(data) for i in n_cluster]\n",
    "scores = [kmeans[i].score(data) for i in range(len(kmeans))]\n",
    "\n",
    "fig, ax = plt.subplots(figsize=(10,6))\n",
    "ax.plot(n_cluster, scores)\n",
    "plt.xlabel('聚类集群数')\n",
    "plt.ylabel('分数')\n",
    "plt.title('Elbow 曲线')\n",
    "plt.show()"
   ]
  },
  {
   "cell_type": "code",
   "execution_count": 42,
   "metadata": {},
   "outputs": [
    {
     "data": {
      "text/plain": [
       "[<matplotlib.lines.Line2D at 0x211b18825f8>]"
      ]
     },
     "execution_count": 42,
     "metadata": {},
     "output_type": "execute_result"
    },
    {
     "data": {
      "text/plain": [
       "Text(0.5, 0, '聚类集群数')"
      ]
     },
     "execution_count": 42,
     "metadata": {},
     "output_type": "execute_result"
    },
    {
     "data": {
      "text/plain": [
       "Text(0, 0.5, '分数')"
      ]
     },
     "execution_count": 42,
     "metadata": {},
     "output_type": "execute_result"
    },
    {
     "data": {
      "text/plain": [
       "Text(0.5, 1.0, 'Elbow 曲线')"
      ]
     },
     "execution_count": 42,
     "metadata": {},
     "output_type": "execute_result"
    },
    {
     "data": {
      "image/png": "[encoded data removed]",
      "text/plain": [
       "<Figure size 720x432 with 1 Axes>"
      ]
     },
     "metadata": {
      "needs_background": "light"
     },
     "output_type": "display_data"
    }
   ],
   "source": [
    "data = df_z\n",
    "n_cluster = range(1, 20)\n",
    "kmeans = [KMeans(n_clusters=i).fit(data) for i in n_cluster]\n",
    "scores = [kmeans[i].score(data) for i in range(len(kmeans))]\n",
    "\n",
    "fig, ax = plt.subplots(figsize=(10,6))\n",
    "ax.plot(n_cluster, scores)\n",
    "plt.xlabel('聚类集群数')\n",
    "plt.ylabel('分数')\n",
    "plt.title('Elbow 曲线')\n",
    "plt.show()"
   ]
  },
  {
   "cell_type": "code",
   "execution_count": 43,
   "metadata": {},
   "outputs": [
    {
     "data": {
      "text/plain": [
       "KMeans(algorithm='auto', copy_x=True, init='k-means++', max_iter=300,\n",
       "    n_clusters=4, n_init=10, n_jobs=None, precompute_distances='auto',\n",
       "    random_state=None, tol=0.0001, verbose=0)"
      ]
     },
     "execution_count": 43,
     "metadata": {},
     "output_type": "execute_result"
    },
    {
     "data": {
      "text/plain": [
       "array([0, 0, 0, 3, 3, 0, 0, 0, 0, 0, 0, 0, 0, 0, 0, 0, 0, 0, 0, 0, 0, 0,\n",
       "       0, 0, 0, 0, 0, 0, 0, 0, 0, 2, 0, 1, 3, 0, 3, 3, 0, 3, 0, 3, 1, 0,\n",
       "       1, 2, 1, 3, 1, 0, 3, 0, 3, 3, 1, 0, 1, 3, 0, 3, 3, 3, 0, 3, 0, 2,\n",
       "       0, 0, 0, 0, 1, 3, 1, 1, 0, 3, 1, 1, 1, 3, 3, 0, 1, 3, 1, 1, 1, 1,\n",
       "       1, 0, 1, 1, 1, 3, 1, 0, 0, 0, 1, 1, 0, 3, 1, 1, 3, 1, 2, 1, 3, 1,\n",
       "       0, 3, 0, 1, 3, 3, 3, 0, 2, 1, 0, 3, 3, 0, 1, 1, 1, 3, 3, 1, 3, 2,\n",
       "       0, 1, 0, 3, 3, 2, 3, 1, 3, 1, 3, 3, 3, 1, 0, 3, 3, 2, 1, 1, 3, 3,\n",
       "       1, 1, 3, 3, 3, 1, 1, 1, 1, 2, 2, 3, 0, 0, 0, 0, 0, 0, 0, 0, 0, 0,\n",
       "       0, 0, 0, 0, 0, 0, 0, 0, 0, 0, 0, 0, 0, 0, 0, 0, 0, 0, 0, 0, 0, 0,\n",
       "       0, 0, 0, 0, 0, 0, 0, 0, 0, 0, 0, 0, 0, 0, 2, 1, 0, 0, 3, 1, 1, 1,\n",
       "       1, 3, 1, 1, 1, 1, 3, 3, 3, 0, 2, 2, 1, 1, 3, 3, 3, 0, 1, 1, 3, 1,\n",
       "       1, 3, 1, 1, 1, 1, 1, 2, 0, 1, 3, 3, 3, 3, 1, 1, 1, 1, 1, 1, 1, 3,\n",
       "       1, 1, 1, 3, 1, 3, 0, 0, 1, 0, 3, 0, 1, 3, 1, 1, 1])"
      ]
     },
     "execution_count": 43,
     "metadata": {},
     "output_type": "execute_result"
    },
    {
     "name": "stderr",
     "output_type": "stream",
     "text": [
      "e:\\Anaconda3\\lib\\site-packages\\IPython\\core\\display.py:689: UserWarning:\n",
      "\n",
      "Consider using IPython.display.IFrame instead\n",
      "\n"
     ]
    },
    {
     "data": {
      "text/html": [
       "<iframe id=\"igraph\" scrolling=\"no\" style=\"border:none;\" seamless=\"seamless\" src=\"https://plot.ly/~tongzheming/268.embed\" height=\"525px\" width=\"100%\"></iframe>"
      ],
      "text/plain": [
       "<chart_studio.tools.PlotlyDisplay object>"
      ]
     },
     "execution_count": 43,
     "metadata": {},
     "output_type": "execute_result"
    }
   ],
   "source": [
    "X = df_z\n",
    "X = X.reset_index(drop=True)\n",
    "km = KMeans(n_clusters=4)\n",
    "km.fit(X)\n",
    "km.predict(X)\n",
    "labels = km.labels_\n",
    "\n",
    "df_z['categories']=labels\n",
    "df_z['categories']=df_z.categories.apply(lambda x: 'category'+str(x+1))\n",
    "\n",
    "df_z.iplot(kind='scatter3d',\n",
    "           x='Z学习动力',y='Z学习能力',z='Z学习毅力',\n",
    "           size=5,\n",
    "           categories='categories',\n",
    "           xTitle='学习动力',\n",
    "           yTitle='学习能力',\n",
    "           zTitle='学习毅力',\n",
    "           title='Z分数均值聚类',\n",
    "           opacity=1)"
   ]
  },
  {
   "cell_type": "code",
   "execution_count": 44,
   "metadata": {},
   "outputs": [
    {
     "data": {
      "text/plain": [
       "array([[ 0.85800571,  0.13972035,  0.78649876],\n",
       "       [-0.77020248, -0.13100005, -0.82359222],\n",
       "       [-1.7104409 , -0.82869383, -2.41358212],\n",
       "       [-0.12351863,  0.10012643,  0.20786221]])"
      ]
     },
     "execution_count": 44,
     "metadata": {},
     "output_type": "execute_result"
    }
   ],
   "source": [
    "centers = km.cluster_centers_\n",
    "centers"
   ]
  },
  {
   "cell_type": "code",
   "execution_count": 45,
   "metadata": {},
   "outputs": [
    {
     "data": {
      "text/plain": [
       "KMeans(algorithm='auto', copy_x=True, init='k-means++', max_iter=300,\n",
       "    n_clusters=4, n_init=10, n_jobs=None, precompute_distances='auto',\n",
       "    random_state=None, tol=0.0001, verbose=0)"
      ]
     },
     "execution_count": 45,
     "metadata": {},
     "output_type": "execute_result"
    },
    {
     "data": {
      "text/plain": [
       "array([0, 0, 0, 2, 2, 0, 0, 0, 0, 0, 0, 0, 0, 0, 0, 0, 0, 0, 0, 0, 0, 0,\n",
       "       0, 0, 0, 0, 0, 0, 0, 0, 0, 1, 0, 3, 2, 0, 2, 2, 0, 2, 0, 2, 3, 0,\n",
       "       3, 1, 3, 2, 3, 0, 2, 0, 2, 2, 3, 0, 3, 2, 0, 2, 2, 2, 0, 2, 0, 1,\n",
       "       0, 0, 0, 0, 3, 2, 3, 3, 0, 2, 3, 3, 3, 2, 2, 0, 3, 2, 3, 3, 3, 3,\n",
       "       3, 0, 3, 3, 3, 2, 3, 0, 0, 0, 3, 3, 0, 2, 3, 3, 2, 3, 1, 3, 2, 3,\n",
       "       0, 2, 0, 3, 2, 2, 2, 0, 1, 3, 0, 2, 2, 0, 3, 3, 3, 2, 2, 3, 2, 1,\n",
       "       0, 3, 0, 2, 2, 1, 2, 3, 2, 3, 2, 2, 2, 3, 0, 2, 2, 1, 3, 3, 2, 2,\n",
       "       3, 3, 2, 2, 2, 3, 3, 3, 3, 1, 1, 2, 0, 0, 0, 0, 0, 0, 0, 0, 0, 0,\n",
       "       0, 0, 0, 0, 0, 0, 0, 0, 0, 0, 0, 0, 0, 0, 0, 0, 0, 0, 0, 0, 0, 0,\n",
       "       0, 0, 0, 0, 0, 0, 0, 0, 0, 0, 0, 0, 0, 0, 1, 3, 0, 0, 2, 3, 3, 3,\n",
       "       3, 2, 3, 3, 3, 3, 2, 2, 2, 0, 1, 1, 3, 3, 2, 2, 2, 0, 3, 3, 2, 3,\n",
       "       3, 2, 3, 3, 3, 3, 3, 1, 0, 3, 2, 2, 2, 2, 3, 3, 3, 3, 3, 3, 3, 2,\n",
       "       3, 3, 3, 2, 3, 2, 0, 0, 3, 0, 2, 0, 3, 2, 3, 3, 3])"
      ]
     },
     "execution_count": 45,
     "metadata": {},
     "output_type": "execute_result"
    },
    {
     "name": "stderr",
     "output_type": "stream",
     "text": [
      "e:\\Anaconda3\\lib\\site-packages\\IPython\\core\\display.py:689: UserWarning:\n",
      "\n",
      "Consider using IPython.display.IFrame instead\n",
      "\n"
     ]
    },
    {
     "data": {
      "text/html": [
       "<iframe id=\"igraph\" scrolling=\"no\" style=\"border:none;\" seamless=\"seamless\" src=\"https://plot.ly/~tongzheming/266.embed\" height=\"525px\" width=\"100%\"></iframe>"
      ],
      "text/plain": [
       "<chart_studio.tools.PlotlyDisplay object>"
      ]
     },
     "execution_count": 45,
     "metadata": {},
     "output_type": "execute_result"
    }
   ],
   "source": [
    "X = df_t\n",
    "X = X.reset_index(drop=True)\n",
    "km = KMeans(n_clusters=4)\n",
    "km.fit(X)\n",
    "km.predict(X)\n",
    "labels = km.labels_\n",
    "df_t['categories']=labels\n",
    "df_t['categories']=df_t.categories.apply(lambda x: 'category'+str(x+1))\n",
    "\n",
    "df_t.iplot(kind='scatter3d',\n",
    "           x='T学习动力',y='T学习能力',z='T学习毅力',\n",
    "           size=5,\n",
    "           categories='categories',\n",
    "           xTitle='学习动力',\n",
    "           yTitle='学习能力',\n",
    "           zTitle='学习毅力',\n",
    "           title='T分数均值聚类',\n",
    "           opacity=1)"
   ]
  },
  {
   "cell_type": "code",
   "execution_count": 46,
   "metadata": {},
   "outputs": [
    {
     "data": {
      "text/plain": [
       "array([[58.58005705, 51.39720353, 57.86498757],\n",
       "       [32.89559102, 41.71306166, 25.86417876],\n",
       "       [48.76481373, 51.00126432, 52.07862209],\n",
       "       [42.29797516, 48.68999954, 41.76407779]])"
      ]
     },
     "execution_count": 46,
     "metadata": {},
     "output_type": "execute_result"
    }
   ],
   "source": [
    "centers = km.cluster_centers_\n",
    "centers"
   ]
  },
  {
   "cell_type": "code",
   "execution_count": null,
   "metadata": {},
   "outputs": [],
   "source": []
  },
  {
   "cell_type": "code",
   "execution_count": null,
   "metadata": {},
   "outputs": [],
   "source": [
    "\n"
   ]
  },
  {
   "cell_type": "code",
   "execution_count": null,
   "metadata": {},
   "outputs": [],
   "source": []
  },
  {
   "cell_type": "code",
   "execution_count": null,
   "metadata": {},
   "outputs": [],
   "source": []
  },
  {
   "cell_type": "code",
   "execution_count": null,
   "metadata": {},
   "outputs": [],
   "source": []
  },
  {
   "cell_type": "code",
   "execution_count": null,
   "metadata": {},
   "outputs": [],
   "source": []
  },
  {
   "cell_type": "code",
   "execution_count": null,
   "metadata": {},
   "outputs": [],
   "source": []
  },
  {
   "cell_type": "code",
   "execution_count": null,
   "metadata": {},
   "outputs": [],
   "source": []
  }
 ],
 "metadata": {
  "kernelspec": {
   "display_name": "Python 3",
   "language": "python",
   "name": "python3"
  },
  "language_info": {
   "codemirror_mode": {
    "name": "ipython",
    "version": 3
   },
   "file_extension": ".py",
   "mimetype": "text/x-python",
   "name": "python",
   "nbconvert_exporter": "python",
   "pygments_lexer": "ipython3",
   "version": "3.7.3"
  }
 },
 "nbformat": 4,
 "nbformat_minor": 2
}
